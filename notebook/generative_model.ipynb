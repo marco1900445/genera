{
  "nbformat": 4,
  "nbformat_minor": 0,
  "metadata": {
    "colab": {
      "provenance": [],
      "machine_shape": "hm"
    },
    "kernelspec": {
      "name": "python3",
      "display_name": "Python 3"
    },
    "language_info": {
      "name": "python"
    },
    "accelerator": "GPU",
    "gpuClass": "standard",
    "widgets": {
      "application/vnd.jupyter.widget-state+json": {
        "15a4321e2ef7481ab5bb69e8f10d8f16": {
          "model_module": "@jupyter-widgets/controls",
          "model_name": "HBoxModel",
          "model_module_version": "1.5.0",
          "state": {
            "_dom_classes": [],
            "_model_module": "@jupyter-widgets/controls",
            "_model_module_version": "1.5.0",
            "_model_name": "HBoxModel",
            "_view_count": null,
            "_view_module": "@jupyter-widgets/controls",
            "_view_module_version": "1.5.0",
            "_view_name": "HBoxView",
            "box_style": "",
            "children": [
              "IPY_MODEL_15980fdf833c465484eedb5e5674eaf4",
              "IPY_MODEL_1e431d08676a4e1e9cdf6a674e2cfaeb",
              "IPY_MODEL_753ec4c392324ff4b944715ba8623f5c"
            ],
            "layout": "IPY_MODEL_1e39cebd4dc04e92a4c0dedfe927527e"
          }
        },
        "15980fdf833c465484eedb5e5674eaf4": {
          "model_module": "@jupyter-widgets/controls",
          "model_name": "HTMLModel",
          "model_module_version": "1.5.0",
          "state": {
            "_dom_classes": [],
            "_model_module": "@jupyter-widgets/controls",
            "_model_module_version": "1.5.0",
            "_model_name": "HTMLModel",
            "_view_count": null,
            "_view_module": "@jupyter-widgets/controls",
            "_view_module_version": "1.5.0",
            "_view_name": "HTMLView",
            "description": "",
            "description_tooltip": null,
            "layout": "IPY_MODEL_06f1c24c47da4f7ea405eedcc68126f8",
            "placeholder": "​",
            "style": "IPY_MODEL_1ff20486220b4c2e85d71bf9f97256e2",
            "value": "Loading checkpoint shards: 100%"
          }
        },
        "1e431d08676a4e1e9cdf6a674e2cfaeb": {
          "model_module": "@jupyter-widgets/controls",
          "model_name": "FloatProgressModel",
          "model_module_version": "1.5.0",
          "state": {
            "_dom_classes": [],
            "_model_module": "@jupyter-widgets/controls",
            "_model_module_version": "1.5.0",
            "_model_name": "FloatProgressModel",
            "_view_count": null,
            "_view_module": "@jupyter-widgets/controls",
            "_view_module_version": "1.5.0",
            "_view_name": "ProgressView",
            "bar_style": "success",
            "description": "",
            "description_tooltip": null,
            "layout": "IPY_MODEL_a050f22c9af8491bb7a2291e9b10765f",
            "max": 2,
            "min": 0,
            "orientation": "horizontal",
            "style": "IPY_MODEL_2ecebf6a0a574aa6adbd195fd1c07400",
            "value": 2
          }
        },
        "753ec4c392324ff4b944715ba8623f5c": {
          "model_module": "@jupyter-widgets/controls",
          "model_name": "HTMLModel",
          "model_module_version": "1.5.0",
          "state": {
            "_dom_classes": [],
            "_model_module": "@jupyter-widgets/controls",
            "_model_module_version": "1.5.0",
            "_model_name": "HTMLModel",
            "_view_count": null,
            "_view_module": "@jupyter-widgets/controls",
            "_view_module_version": "1.5.0",
            "_view_name": "HTMLView",
            "description": "",
            "description_tooltip": null,
            "layout": "IPY_MODEL_a5f0fdf9ff2143f78a16fcbafac3386d",
            "placeholder": "​",
            "style": "IPY_MODEL_daa1323c4a324e9aaf44dbfeb3d75f3b",
            "value": " 2/2 [00:07&lt;00:00,  3.55s/it]"
          }
        },
        "1e39cebd4dc04e92a4c0dedfe927527e": {
          "model_module": "@jupyter-widgets/base",
          "model_name": "LayoutModel",
          "model_module_version": "1.2.0",
          "state": {
            "_model_module": "@jupyter-widgets/base",
            "_model_module_version": "1.2.0",
            "_model_name": "LayoutModel",
            "_view_count": null,
            "_view_module": "@jupyter-widgets/base",
            "_view_module_version": "1.2.0",
            "_view_name": "LayoutView",
            "align_content": null,
            "align_items": null,
            "align_self": null,
            "border": null,
            "bottom": null,
            "display": null,
            "flex": null,
            "flex_flow": null,
            "grid_area": null,
            "grid_auto_columns": null,
            "grid_auto_flow": null,
            "grid_auto_rows": null,
            "grid_column": null,
            "grid_gap": null,
            "grid_row": null,
            "grid_template_areas": null,
            "grid_template_columns": null,
            "grid_template_rows": null,
            "height": null,
            "justify_content": null,
            "justify_items": null,
            "left": null,
            "margin": null,
            "max_height": null,
            "max_width": null,
            "min_height": null,
            "min_width": null,
            "object_fit": null,
            "object_position": null,
            "order": null,
            "overflow": null,
            "overflow_x": null,
            "overflow_y": null,
            "padding": null,
            "right": null,
            "top": null,
            "visibility": null,
            "width": null
          }
        },
        "06f1c24c47da4f7ea405eedcc68126f8": {
          "model_module": "@jupyter-widgets/base",
          "model_name": "LayoutModel",
          "model_module_version": "1.2.0",
          "state": {
            "_model_module": "@jupyter-widgets/base",
            "_model_module_version": "1.2.0",
            "_model_name": "LayoutModel",
            "_view_count": null,
            "_view_module": "@jupyter-widgets/base",
            "_view_module_version": "1.2.0",
            "_view_name": "LayoutView",
            "align_content": null,
            "align_items": null,
            "align_self": null,
            "border": null,
            "bottom": null,
            "display": null,
            "flex": null,
            "flex_flow": null,
            "grid_area": null,
            "grid_auto_columns": null,
            "grid_auto_flow": null,
            "grid_auto_rows": null,
            "grid_column": null,
            "grid_gap": null,
            "grid_row": null,
            "grid_template_areas": null,
            "grid_template_columns": null,
            "grid_template_rows": null,
            "height": null,
            "justify_content": null,
            "justify_items": null,
            "left": null,
            "margin": null,
            "max_height": null,
            "max_width": null,
            "min_height": null,
            "min_width": null,
            "object_fit": null,
            "object_position": null,
            "order": null,
            "overflow": null,
            "overflow_x": null,
            "overflow_y": null,
            "padding": null,
            "right": null,
            "top": null,
            "visibility": null,
            "width": null
          }
        },
        "1ff20486220b4c2e85d71bf9f97256e2": {
          "model_module": "@jupyter-widgets/controls",
          "model_name": "DescriptionStyleModel",
          "model_module_version": "1.5.0",
          "state": {
            "_model_module": "@jupyter-widgets/controls",
            "_model_module_version": "1.5.0",
            "_model_name": "DescriptionStyleModel",
            "_view_count": null,
            "_view_module": "@jupyter-widgets/base",
            "_view_module_version": "1.2.0",
            "_view_name": "StyleView",
            "description_width": ""
          }
        },
        "a050f22c9af8491bb7a2291e9b10765f": {
          "model_module": "@jupyter-widgets/base",
          "model_name": "LayoutModel",
          "model_module_version": "1.2.0",
          "state": {
            "_model_module": "@jupyter-widgets/base",
            "_model_module_version": "1.2.0",
            "_model_name": "LayoutModel",
            "_view_count": null,
            "_view_module": "@jupyter-widgets/base",
            "_view_module_version": "1.2.0",
            "_view_name": "LayoutView",
            "align_content": null,
            "align_items": null,
            "align_self": null,
            "border": null,
            "bottom": null,
            "display": null,
            "flex": null,
            "flex_flow": null,
            "grid_area": null,
            "grid_auto_columns": null,
            "grid_auto_flow": null,
            "grid_auto_rows": null,
            "grid_column": null,
            "grid_gap": null,
            "grid_row": null,
            "grid_template_areas": null,
            "grid_template_columns": null,
            "grid_template_rows": null,
            "height": null,
            "justify_content": null,
            "justify_items": null,
            "left": null,
            "margin": null,
            "max_height": null,
            "max_width": null,
            "min_height": null,
            "min_width": null,
            "object_fit": null,
            "object_position": null,
            "order": null,
            "overflow": null,
            "overflow_x": null,
            "overflow_y": null,
            "padding": null,
            "right": null,
            "top": null,
            "visibility": null,
            "width": null
          }
        },
        "2ecebf6a0a574aa6adbd195fd1c07400": {
          "model_module": "@jupyter-widgets/controls",
          "model_name": "ProgressStyleModel",
          "model_module_version": "1.5.0",
          "state": {
            "_model_module": "@jupyter-widgets/controls",
            "_model_module_version": "1.5.0",
            "_model_name": "ProgressStyleModel",
            "_view_count": null,
            "_view_module": "@jupyter-widgets/base",
            "_view_module_version": "1.2.0",
            "_view_name": "StyleView",
            "bar_color": null,
            "description_width": ""
          }
        },
        "a5f0fdf9ff2143f78a16fcbafac3386d": {
          "model_module": "@jupyter-widgets/base",
          "model_name": "LayoutModel",
          "model_module_version": "1.2.0",
          "state": {
            "_model_module": "@jupyter-widgets/base",
            "_model_module_version": "1.2.0",
            "_model_name": "LayoutModel",
            "_view_count": null,
            "_view_module": "@jupyter-widgets/base",
            "_view_module_version": "1.2.0",
            "_view_name": "LayoutView",
            "align_content": null,
            "align_items": null,
            "align_self": null,
            "border": null,
            "bottom": null,
            "display": null,
            "flex": null,
            "flex_flow": null,
            "grid_area": null,
            "grid_auto_columns": null,
            "grid_auto_flow": null,
            "grid_auto_rows": null,
            "grid_column": null,
            "grid_gap": null,
            "grid_row": null,
            "grid_template_areas": null,
            "grid_template_columns": null,
            "grid_template_rows": null,
            "height": null,
            "justify_content": null,
            "justify_items": null,
            "left": null,
            "margin": null,
            "max_height": null,
            "max_width": null,
            "min_height": null,
            "min_width": null,
            "object_fit": null,
            "object_position": null,
            "order": null,
            "overflow": null,
            "overflow_x": null,
            "overflow_y": null,
            "padding": null,
            "right": null,
            "top": null,
            "visibility": null,
            "width": null
          }
        },
        "daa1323c4a324e9aaf44dbfeb3d75f3b": {
          "model_module": "@jupyter-widgets/controls",
          "model_name": "DescriptionStyleModel",
          "model_module_version": "1.5.0",
          "state": {
            "_model_module": "@jupyter-widgets/controls",
            "_model_module_version": "1.5.0",
            "_model_name": "DescriptionStyleModel",
            "_view_count": null,
            "_view_module": "@jupyter-widgets/base",
            "_view_module_version": "1.2.0",
            "_view_name": "StyleView",
            "description_width": ""
          }
        }
      }
    }
  },
  "cells": [
    {
      "cell_type": "markdown",
      "source": [
        "## Installation\n",
        "\n",
        "We will need to install a number of libraries to start with."
      ],
      "metadata": {
        "id": "GrLWLle74-mC"
      }
    },
    {
      "cell_type": "code",
      "source": [
        "import networkx as nx\n",
        "!pip install transformers\n",
        "!pip install sentencepiece"
      ],
      "metadata": {
        "colab": {
          "base_uri": "https://localhost:8080/"
        },
        "id": "2IVQbA_GeDqN",
        "outputId": "941abc2a-2d00-4194-b55c-4b3b2b31c2e9"
      },
      "execution_count": 2,
      "outputs": [
        {
          "output_type": "stream",
          "name": "stdout",
          "text": [
            "Looking in indexes: https://pypi.org/simple, https://us-python.pkg.dev/colab-wheels/public/simple/\n",
            "Collecting transformers\n",
            "  Downloading transformers-4.27.4-py3-none-any.whl (6.8 MB)\n",
            "\u001b[2K     \u001b[90m━━━━━━━━━━━━━━━━━━━━━━━━━━━━━━━━━━━━━━━━\u001b[0m \u001b[32m6.8/6.8 MB\u001b[0m \u001b[31m57.3 MB/s\u001b[0m eta \u001b[36m0:00:00\u001b[0m\n",
            "\u001b[?25hRequirement already satisfied: regex!=2019.12.17 in /usr/local/lib/python3.9/dist-packages (from transformers) (2022.10.31)\n",
            "Requirement already satisfied: pyyaml>=5.1 in /usr/local/lib/python3.9/dist-packages (from transformers) (6.0)\n",
            "Requirement already satisfied: requests in /usr/local/lib/python3.9/dist-packages (from transformers) (2.27.1)\n",
            "Requirement already satisfied: packaging>=20.0 in /usr/local/lib/python3.9/dist-packages (from transformers) (23.0)\n",
            "Requirement already satisfied: numpy>=1.17 in /usr/local/lib/python3.9/dist-packages (from transformers) (1.22.4)\n",
            "Requirement already satisfied: tqdm>=4.27 in /usr/local/lib/python3.9/dist-packages (from transformers) (4.65.0)\n",
            "Collecting tokenizers!=0.11.3,<0.14,>=0.11.1\n",
            "  Downloading tokenizers-0.13.3-cp39-cp39-manylinux_2_17_x86_64.manylinux2014_x86_64.whl (7.8 MB)\n",
            "\u001b[2K     \u001b[90m━━━━━━━━━━━━━━━━━━━━━━━━━━━━━━━━━━━━━━━━\u001b[0m \u001b[32m7.8/7.8 MB\u001b[0m \u001b[31m88.4 MB/s\u001b[0m eta \u001b[36m0:00:00\u001b[0m\n",
            "\u001b[?25hRequirement already satisfied: filelock in /usr/local/lib/python3.9/dist-packages (from transformers) (3.11.0)\n",
            "Collecting huggingface-hub<1.0,>=0.11.0\n",
            "  Downloading huggingface_hub-0.13.4-py3-none-any.whl (200 kB)\n",
            "\u001b[2K     \u001b[90m━━━━━━━━━━━━━━━━━━━━━━━━━━━━━━━━━━━━━━\u001b[0m \u001b[32m200.1/200.1 kB\u001b[0m \u001b[31m24.2 MB/s\u001b[0m eta \u001b[36m0:00:00\u001b[0m\n",
            "\u001b[?25hRequirement already satisfied: typing-extensions>=3.7.4.3 in /usr/local/lib/python3.9/dist-packages (from huggingface-hub<1.0,>=0.11.0->transformers) (4.5.0)\n",
            "Requirement already satisfied: urllib3<1.27,>=1.21.1 in /usr/local/lib/python3.9/dist-packages (from requests->transformers) (1.26.15)\n",
            "Requirement already satisfied: certifi>=2017.4.17 in /usr/local/lib/python3.9/dist-packages (from requests->transformers) (2022.12.7)\n",
            "Requirement already satisfied: idna<4,>=2.5 in /usr/local/lib/python3.9/dist-packages (from requests->transformers) (3.4)\n",
            "Requirement already satisfied: charset-normalizer~=2.0.0 in /usr/local/lib/python3.9/dist-packages (from requests->transformers) (2.0.12)\n",
            "Installing collected packages: tokenizers, huggingface-hub, transformers\n",
            "Successfully installed huggingface-hub-0.13.4 tokenizers-0.13.3 transformers-4.27.4\n",
            "Looking in indexes: https://pypi.org/simple, https://us-python.pkg.dev/colab-wheels/public/simple/\n",
            "Collecting sentencepiece\n",
            "  Downloading sentencepiece-0.1.97-cp39-cp39-manylinux_2_17_x86_64.manylinux2014_x86_64.whl (1.3 MB)\n",
            "\u001b[2K     \u001b[90m━━━━━━━━━━━━━━━━━━━━━━━━━━━━━━━━━━━━━━━━\u001b[0m \u001b[32m1.3/1.3 MB\u001b[0m \u001b[31m55.5 MB/s\u001b[0m eta \u001b[36m0:00:00\u001b[0m\n",
            "\u001b[?25hInstalling collected packages: sentencepiece\n",
            "Successfully installed sentencepiece-0.1.97\n"
          ]
        }
      ]
    },
    {
      "cell_type": "markdown",
      "source": [
        "We use flan alpaca model for speed and local execution."
      ],
      "metadata": {
        "id": "ppJQOfF-3HT1"
      }
    },
    {
      "cell_type": "code",
      "source": [
        "from transformers import pipeline\n",
        "\n",
        "prompt = \"Write an email about an alpaca that likes flan\"\n",
        "model = pipeline(model=\"declare-lab/flan-alpaca-xl\", device=0)\n",
        "model(prompt, max_length=128, do_sample=True)"
      ],
      "metadata": {
        "colab": {
          "base_uri": "https://localhost:8080/",
          "height": 86,
          "referenced_widgets": [
            "15a4321e2ef7481ab5bb69e8f10d8f16",
            "15980fdf833c465484eedb5e5674eaf4",
            "1e431d08676a4e1e9cdf6a674e2cfaeb",
            "753ec4c392324ff4b944715ba8623f5c",
            "1e39cebd4dc04e92a4c0dedfe927527e",
            "06f1c24c47da4f7ea405eedcc68126f8",
            "1ff20486220b4c2e85d71bf9f97256e2",
            "a050f22c9af8491bb7a2291e9b10765f",
            "2ecebf6a0a574aa6adbd195fd1c07400",
            "a5f0fdf9ff2143f78a16fcbafac3386d",
            "daa1323c4a324e9aaf44dbfeb3d75f3b"
          ]
        },
        "id": "_5tljpoz0PNA",
        "outputId": "a1cc67fe-71ca-4247-cec9-c624c0990911"
      },
      "execution_count": 1,
      "outputs": [
        {
          "output_type": "display_data",
          "data": {
            "text/plain": [
              "Loading checkpoint shards:   0%|          | 0/2 [00:00<?, ?it/s]"
            ],
            "application/vnd.jupyter.widget-view+json": {
              "version_major": 2,
              "version_minor": 0,
              "model_id": "15a4321e2ef7481ab5bb69e8f10d8f16"
            }
          },
          "metadata": {}
        },
        {
          "output_type": "execute_result",
          "data": {
            "text/plain": [
              "[{'generated_text': \"Hello! We're delighted to inform you that our alpaca, Sarah, loves flan. She loves it so much she'd even lay right down and take a bite! Just make sure you give her plenty of fresh greens and a warm environment and she will be delighted with her favorite way to eat.\"}]"
            ]
          },
          "metadata": {},
          "execution_count": 1
        }
      ]
    },
    {
      "cell_type": "code",
      "source": [
        "from transformers import pipeline\n",
        "import networkx as nx\n",
        "prompt = '''### Instruction:\n",
        "Who is the first person on the moon?\n",
        "\n",
        "### Response:'''\n",
        "def generate(prompt):\n",
        "  output = model(prompt, do_sample=True, min_length=10, max_length=len(prompt)+128)\n",
        "  out = output[0]['generated_text']\n",
        "  if '### Response:' in out:\n",
        "    out = out.split('### Response:')[1]\n",
        "  if '### Instruction:' in out:\n",
        "    out = out.split('### Instruction:')[0]\n",
        "  return out"
      ],
      "metadata": {
        "id": "M10a7xJomV-B"
      },
      "execution_count": 2,
      "outputs": []
    },
    {
      "cell_type": "markdown",
      "source": [
        "## World Description\n",
        "We describe the world below. We will generate prompts based on this information"
      ],
      "metadata": {
        "id": "4TjpUGKT42o_"
      }
    },
    {
      "cell_type": "code",
      "source": [
        "world_graph = nx.Graph()\n",
        "\n",
        "prompt_meta = '''### Instruction:\n",
        "{}\n",
        "\n",
        "### Response:'''\n",
        "\n",
        "town_areas = [\"Barthen's Provisions\", \"Lionshield Coster\", \"Stonehill Inn\", \"Phandalin Town Square\"]\n",
        "town_areas = {\"Phandalin Town Square\": 'Town square of the town of Phandalin.',\n",
        "              'Stonehill Inn': \"In the center of town stands a large, newly built roadhouse of fieldstone and rough-hewn timbers. The common room is filled with locals nursing mugs of ale or cider, all of them eyeing you with curiosity.\",\n",
        "              \"Barthen's Provisions\": \"Barthen’s is the biggest trading post in Phandalin. Its shelves stock most ordinary goods and supplies, including backpacks, bedrolls, rope, and rations. The place is open from sunup to sundown.\",\n",
        "              \"Edermath Orchard\": \"A tidy little cottage beside an apple orchard.\",\n",
        "              \"Lionshield Coster\": \"Hanging above the front door of this modest trading post is a sign shaped like a wooden shield with a blue lion painted on it. This building is owned by the Lionshields, a merchant company based in the city of Yartar, over a hundred miles to the east. They ship finished goods to Phandalin and other small settlements throughout the region, but this outpost has been hard hit by banditry. The most recent Lionshield caravan due in Phandalin never arrived.\",\n",
        "              \"Phandalin Miner's Exchange\": \"The Miner’s Exchange is a trading post where local miners have their valuable finds weighed, measured, and paid out. In the absence of any local lord or authority, the exchange also serves as an unofficial records office, registering claims to various streams and excavations around the area. There isn’t any real gold rush in Phandalin, but enough wealth is hidden in the nearby streams and valleys to support a good number of independent prospectors. The exchange is a great place to meet people who spend a lot of time out and about in the countryside surrounding Phandalin. The guildmaster is an ambitious and calculating human woman named Halia Thornton.\",\n",
        "              \"Alderleaf Farm\": \"A farm owned by the helpful halfling farmer, Qelline Alderleaf.\",\n",
        "              \"Shrine of Luck\": \"Phandalin's only temple is a small shrine made of stones taken from the nearby ruins. It is dedicated to Tymora, goddess of luck and good fortune.\",\n",
        "              \"The Sleeping Giant\": \"This rundown tap house is a dirty, dangerous watering hole at the end of Phandalin’s main street. It is frequented by Redbrand thugs and operated by a surly female dwarf named Grista.\",\n",
        "              \"Townmaster’s Hall\": \"The townmaster’s hall has sturdy stone walls, a pitched wooden roof, and a bell tower at the back. Posted on a board next to the front door is a notice written in Common. It reads: “REWARD — Orcs near Wyvern Tor! Those of a mind to face the orc menace should inquire within.” The notice bears the town’s seal and an indecipherable signature.\",\n",
        "              \"Tresendar Manor\": \"A ruined manor. The Redbrands’ base in Phandalin is a dungeon complex under Tresendar Manor. Before the manor was ruined, its cellars served as safe storage for food and water in the event that the estate was attacked, while an adjoining crypt provided a resting place for the deceased members of the Tresendar family. The Redbrands have since expanded the cellars to suit their own purposes, adding slave pens, workshops, and barracks.\"\n",
        "              }\n",
        "town_people = {\"Toblen Stonehill\": \"Owns a trading post.\", \n",
        "               \"Daran Edermath\": \"Daran Edermath is a retired adventurer who lives in a tidy little cottage beside an apple orchard. A fit, silver-haired half-elf well over a hundred years old, Daran is a fighter who served as a marshal and herald for many years in the lands of the Dragon Coast, far to the southeast. Upon retiring, he returned to the Neverwinter region, his original home.\",  \n",
        "               \"Linene Graywind\": \"Runs a trading post.\",  \n",
        "               \"Halia Thornton\": \"An ambitious and calculating human woman. She is the guildmaster of Phandalin Miner’s Exchange, a trading post where local miners have their valuable finds weighed, measured, and paid out. In her attempts to establish the Miner's Exchange as the closest thing the town has to a governing authority, she acts as more than a simple merchant.\",  \n",
        "               \"Qelline Alderleaf\": \"A wise female halfling of forty-five, Qelline Alderleaf is a pragmatic farmer who seems to know everything that goes on in town. She is a kind host, and is willing to let the characters stay in her hayloft if they don't want to stay at the Stonehill Inn.\",  \n",
        "               \"Sister Garaele\": \"Elf cleric of Tymora and Harper agent.\", \n",
        "               \"Harbin Wester\": \"Townmaster of Phandalin. A pompous, old food. Phandalin has no functioning government, but the townsfolk elect someone to serve as townmaster each year. The townmaster serves as a judge in minor disputes and keeps any records that need to be kept.\",\n",
        "               \"Terrill Five Fingers\": \"A human ruffian. He wears a grimy scarlet cloak. He is a member of the Redbrand ruffians. He doesn't like adventurers, and wants to rob and kill them.\",\n",
        "               \"Conrad Scarface\": \"A human ruffian. He wears a grimy scarlet cloak. He is a member of the Redbrand ruffians. He doesn't like adventurers, and wants to rob and kill them.\",\n",
        "               \"Robbing Nellie\": \"A human ruffian. She wears a grimy scarlet cloak. She is a member of the Redbrand ruffians. She doesn't like adventurers, and wants to rob and kill them.\",\n",
        "               \"Valerie the Grin\": \"A human ruffian. She wears a grimy scarlet cloak. She is a member of the Redbrand ruffians. She doesn't like adventurers, and wants to rob and kill them.\",\n",
        "               }\n",
        "for town_area in town_areas.keys():\n",
        "  world_graph.add_node(town_area)\n",
        "  world_graph.add_edge(town_area, town_area)\n",
        "for town_area in town_areas.keys():\n",
        "  world_graph.add_edge(town_area, \"Phandalin Town Square\")\n",
        "locations = {}\n",
        "for i in town_people.keys():\n",
        "  locations[i] = \"Phandalin Town Square\"\n",
        "\n",
        "\n",
        "memories = {}\n",
        "for i in town_people.keys():\n",
        "  memories[i] = []\n",
        "plans = {}\n",
        "for i in town_people.keys():\n",
        "  plans[i] = []\n",
        "\n",
        "global_time = 8\n",
        "def generate_description_of_area(x):\n",
        "  text = \"It is \"+str(global_time)+\":00. The location is \"+x+\".\"\n",
        "  people = []\n",
        "  for i in locations.keys():\n",
        "    if locations[i] == x:\n",
        "      people.append(i)\n"
      ],
      "metadata": {
        "id": "8j18ru-dt0sl"
      },
      "execution_count": 3,
      "outputs": []
    },
    {
      "cell_type": "code",
      "source": [
        "for name in town_people.keys():\n",
        "  prompt = \"You are {}. The following is your description: {} You just woke up. What is your goal for today? Write it down in an hourly basis, starting at {}:00. Write only one or two very short sentences. Be very brief. Use at most 50 words.\".format(name, town_people[name], str(global_time))\n",
        "  plans[name] = generate(prompt_meta.format(prompt))\n",
        "  print(name, plans[name])"
      ],
      "metadata": {
        "colab": {
          "base_uri": "https://localhost:8080/"
        },
        "id": "jckJnxqc69dO",
        "outputId": "4d0d22bf-1b85-484c-c718-4741102782df"
      },
      "execution_count": 6,
      "outputs": [
        {
          "output_type": "stream",
          "name": "stdout",
          "text": [
            "Toblen Stonehill Toblen Stonehill, owner of a trading post. Day 1: Check the supplies on the trading post. Day 2: Prepare the goods for the day. Day 3: Build a new trading post. Day 4: Collect a reward for the successful completion of an assignment. Day 5: Organize supplies from the trading post. Day 6: Set up the trading post or start a new business.\n",
            "Daran Edermath - Up early to finish work on the house. - Spend time meditating and drinking tea. - Spend the morning exploring the apple orchard. - Come up with a plan for the day's adventures.\n",
            "Linene Graywind 17:30: Doing paperwork. 30 minutes: Reading. 31 minutes: Prepare a snack. 17:35: Packing up. 13:50: Packing up and going for a hike. 21:55: Going to the temple for a ritual. 19:30: Finishing paperwork. 30 minutes: Doing a practice run before going to bed.\n",
            "Halia Thornton Today is my mission for the next 24 hours. ### I should work hard as I plan my strategies to obtain new miners and advance the trading post. I should also build good relationships with the local miners to enhance the overall trade of the town. In order to succeed I should take advantage of any opportunities that appear, and use my contacts to ensure that all miners are treated fairly. #### I should also explore available resources and develop my strategies to make new trade opportunities. After I have completed my goals for the day, I should have a better understanding of how to maximize my profits and gain trust in the town.\n",
            "Qelline Alderleaf - At 9:00, I make the chickens and a variety of other chicken friends. - At 10:00, I plan the farm's harvest. - At 11:00, I spend a few minutes crafting a new set of items for the farm.\n",
            "Sister Garaele Today, I plan to: - Read the latest news headlines - Spend time with my family - Perform some light exercises - Check in with a local Harper agent - Start a conversation with the Tymoran faction leader, then plan my day for the remainder of the day - Work on preparation for tomorrow's events -> Have breakfast and enjoy the morning.\n",
            "Harbin Wester 17:30: Lunch time. 20:00: Read a book. 21:00: Have a chat with a villager. 22:00: Talk to my parents about their day.\n",
            "Terrill Five Fingers Today's Goal: Rip the darned adventurers.\n",
            "Conrad Scarface My goal for today is to locate Redbrand ruffians and attack them.\n",
            "Robbing Nellie today: 1. Run a few errands. 2. Get a few more items to further my loot. 3. Visit Nellie. 4. Spend a few minutes chatting with her and analyzing her behavior. 5. Gather the funds to pay the damages for the robbery. 6. Take a break and rest for a bit. ### nooutput>\n",
            "Valerie the Grin Am I motivated to make money today? Yes, I am optimistic. I want to travel and find adventurers. I also want to rob and kill them wherever I can. Am I ready for what the day will bring? No, I am not ready yet. I need to work hard and stay focused. Am I able to find any other members of this group? Yes, I am.\n"
          ]
        }
      ]
    },
    {
      "cell_type": "code",
      "source": [
        "action_prompts = {}\n",
        "for location in town_areas.keys():\n",
        "  people = []\n",
        "  for i in town_people.keys():\n",
        "    if locations[i] == location:\n",
        "      people.append(i)\n",
        "  \n",
        "  for name in people:\n",
        "    prompt = \"You are {}. Your plans are: {}. You are currently in {}. It is currently {}:00. The following people are in this area: {}. You can interact with them.\".format(name, plans[name], location, str(global_time), ', '.join(people))\n",
        "    people_description = []\n",
        "    for i in people:\n",
        "      people_description.append(i+': '+town_people[i])\n",
        "    prompt += ' You know the following about people: ' + '. '.join(people_description)\n",
        "    memory_text = '. '.join(memories[name][-10:])\n",
        "    prompt += \"What do you do in the next hour? Use at most 10 words to explain.\"\n",
        "    action_prompts[name] = prompt"
      ],
      "metadata": {
        "id": "FJ5Dle2t5pAe"
      },
      "execution_count": 10,
      "outputs": []
    },
    {
      "cell_type": "code",
      "source": [
        "action_results = {}\n",
        "for name in town_people.keys():\n",
        "  action_results[name] = generate(prompt_meta.format(action_prompts[name]))\n",
        "  print(name, action_results[name])"
      ],
      "metadata": {
        "colab": {
          "base_uri": "https://localhost:8080/"
        },
        "id": "_B_eAuzsvyjs",
        "outputId": "beeb0b92-fadf-4bff-cda3-a7515b8790dd"
      },
      "execution_count": 11,
      "outputs": [
        {
          "output_type": "stream",
          "name": "stdout",
          "text": [
            "Toblen Stonehill Talk to the people in the square about what I'm doing, how my supplies are doing, and who I should be looking out for next.\n",
            "Daran Edermath Daran spends the morning exploring the apple orchard with Sister Garaele. Over breakfast, he picks up a few items and goes over to Toblen Stonehill's trading post to find out which merchants have their valuable finds weighed, measured, and paid out. Once he has gotten the data he needs, he starts talking to the other characters. Depending on the conversation, he teaches them the history of the town, a bit about Phandalin, or explains his beliefs on the topic of ruffians.\n",
            "Linene Graywind Linene will do paperwork until 17:30. She will then read for 31 minutes, then make a snack and pack up in the morning.\n",
            "Halia Thornton In the next hour, I will attempt to build relationships with the local miners. I will also explore available resources. I will create new trade opportunities by exploiting what is already known. I will also ensure that everything is done fairly and to the highest standards of justice.\n",
            "Qelline Alderleaf Qelline Alderleaf: At 8:00, I chat with Harbin Wester and Sister Garaele. At 9:00, I make the chickens and a variety of other chicken friends. At 10:00, I plan the farm's harvest. At 11:00, I spend a few minutes crafting a new set of items for the farm.\n",
            "Sister Garaele Sister Garaele, Harbin Wester, and Toblen Stonehill discuss how Phandalin's leaders and merchants are competing in a new market.\n",
            "Harbin Wester Gather information from Toblen Stonehill, Sister Garaele, and Robbing Nellie.\n",
            "Terrill Five Fingers I will start a fight with any brave adventurers I encounter to claim their loot and enslave them.\n",
            "Conrad Scarface Find Redbrand ruffians. Talk to people to learn more about them. Engage with them to plan out your attack.\n",
            "Robbing Nellie Robbing Nellie: Visit Nellie to get an assessment of her behavior. After, get the loot that we can’t afford to lose.\n",
            "Valerie the Grin I talk to Toblen Stonehill and then go to join up with a group of other ruffians in Phandalin Town Square who are also looking to make money today.\n"
          ]
        }
      ]
    },
    {
      "cell_type": "code",
      "source": [
        "action_prompts = {}\n",
        "for location in town_areas.keys():\n",
        "  people = []\n",
        "  for i in town_people.keys():\n",
        "    if locations[i] == location:\n",
        "      people.append(i)\n",
        "  \n",
        "  for name in people:\n",
        "    for name_two in people:\n",
        "      memories[name].append('Time: {}. Person: {}. Memory: {}'.format(str(global_time), name_two, action_results[name_two]))"
      ],
      "metadata": {
        "id": "qL0YTTv_3znD"
      },
      "execution_count": 12,
      "outputs": []
    },
    {
      "cell_type": "code",
      "source": [
        "memory_ratings = {}\n",
        "for name in town_people.keys():\n",
        "  memory_ratings[name] = []\n",
        "  for i, memory in enumerate(memories[name]):\n",
        "    prompt = \"You are {}. Your plans are: {}. You are currently in {}. It is currently {}:00. You observe the following: {}. Give a rating, between 1 and 5, to how much you care about this.\".format(name, plans[name], location, str(global_time), memory)\n",
        "    res = generate(prompt_meta.format(prompt))\n",
        "    memory_ratings[name].append(res)\n",
        "  print(memory_ratings[name])"
      ],
      "metadata": {
        "colab": {
          "base_uri": "https://localhost:8080/"
        },
        "id": "jnqRL7-H5Xj8",
        "outputId": "839b6755-9b18-411f-981b-ae8879b26d87"
      },
      "execution_count": 14,
      "outputs": [
        {
          "output_type": "stream",
          "name": "stderr",
          "text": [
            "/usr/local/lib/python3.9/dist-packages/transformers/pipelines/base.py:1070: UserWarning: You seem to be using the pipelines sequentially on GPU. In order to maximize efficiency please use a dataset\n",
            "  warnings.warn(\n"
          ]
        },
        {
          "output_type": "stream",
          "name": "stdout",
          "text": [
            "['4 (important) Thanks for taking the time to complete this task.', '3 out of 5 stars. The memory of Daran Edermath is one of the most memorable I have seen. His interactions with the other characters brings an added dimension to the simulation, creating a more immersive and engaging experience.', \"I care about this very much. It is one of my priorities to build a trading post at Tresendar Manor and I am eager to work on Linene's schedule.\", '5 I care very much about fairness and justice.', '5 I care a lot about Qelline Alderleaf.', '4 (Interest) and you have finished Day 3.', 'I care about this very much. It is a very important opportunity to build a successful trading post and get valuable supplies and information.', \"2/5. Toblen is somewhat concerned about Terrill Five Fingers' behavior, but still does not care too much about trading him.\", '2 because this is only part of the plan.', '3/5. I care about this a lot.', '4 stars. I am interested in this experience that Valerie has provided me with and I hope it will help me take my next steps.']\n",
            "[\"3 - This memory is not particularly important to me. I'm more concerned with my own plans, and I've been spending most of my time with my duties already accomplished. I can still take a few minutes to reflect on what I'm trying to accomplish as I go and think about who I might contact next.\", \"5 stars. Daran's morning was truly epic!\", '4/10. Linene has a good schedule for the day, and she should have the time to explore Tresendar Manor.', '4 The memory of Halia Thornton is important. She should focus on getting to know her miners, and developing meaningful relationships. Therefore, she cares deeply about fairness and justice.', \"2/10. You have completed the day's tasks.\", \"4 out of 5 stars. The discussion surrounding Phandalin's leaders and merchants is incredibly interesting and relevant to the story I'm currently working on.\", '3 out of 5 (Not Important)!', '3 (Insert your rating)', '2/5. What will Daran Edermath do now?', \"4 (very important) - I need to assess Nellie's behavior before I can access the loot.\", '3/10. I am not interested in this item.']\n",
            "['5 (important) This is a reminder why I need to get to the square by 8 so I can talk to the people who are in the square about my plans and what I should be looking out for next.', \"3/5. This activity is important and provides a glimpse into the complexities of Daran's daily life.\", '5 (High) - I care a lot about this.', '5 - I care very much about this and am committed to making it successful.', '4 I care deeply about keeping the farm running smoothly. I take every opportunity to spend time caring for the animals, plan my harvest, and craft new materials for the farm. I use this time to reflect on how God created the world and to make my life meaningful.', '5 (important) nooutput>', \"3/5. This task is important enough to merit Linene's attention, and therefore she cares about it.\", \"3/8. I don't care at all, as I already have my plans in place.\", '3/5. I care very much about this memory and want to do my best with it.', '5 (Important) Since this is the most important task of the day, I will be taking every precaution ensuring that it is done properly and without delay.', '5 (Mildly) concerned.']\n",
            "['3/5 because you would like to make an impact with the people.', '4/5. I care about Daran and his journey, and I hope that he will take advantage of any opportunities that arise. I would like to see more of his in-game actions; like the moments when he is talking to the other characters and exploring the apple orchard. I believe that I can make a positive contribution to his advancement, so I am looking forward to seeing what events unfold.', \"3/5. I care about Linene because of her impact on the trading post. Therefore, I need to ensure that she completing each of her tasks within the prescribed time. I also need to ensure that she completes all of her objectives on her list. I need to ensure that our objectives meet and that Linene's goals are achieved. I also need to make sure that Linene has an efficient system in place for handling paperwork. None of the above. I also need to ensure that your objectives do not conflict with Linene's. Furthermore, I need to provide her with a comfortable life environment. This requires that her hours are productive, and she is well taken care of. As such, I need to ensure that Linene's needs are met. Additionally, I need to provide Linene with the appropriate resources to make sure she\", '2/1. I take my responsibilities seriously and am determined to achieve my goals. I look forward to engaging with the local miners and gaining their trust.', 'Halia Thornton: I care immensely about the work Qelline Alderleaf performs every day and I admire her dedication to her mission. I admire her commitment to completing tasks ahead of schedule and her strong sense of commitment to achieving the goals she sets. I admire her enthusiasm and resilience in the face of difficulty and am thrilled to have witnessed her dedication and perseverance.', \"4 (Caring) ### Time: 8  Location: Tresendar Manor, 10km away. ### Person: Sister Garaele @ 8  Memory: Sister Garaele, Harbin Wester, and Toblen Stonehill discuss how Phandalin's leaders and merchants are competing in a new market. ### Rating: 3 (Bad)\", '3/5. I will need this information to create an effective strategy for trading with the local miners and to better comprehend how to maximize my profits and gain trust in the town.', '3/5 stars. I care about this for the purpose of optimizing my trade opportunities.', \"3/5. I am passionate about finding and engaging with the criminals of Redbrand. Even if I don't have all the details, I still consider this mission of mine. Even if I didn't have the details, I would still be taking action.\", '4/5. You care about this mission very much and have already taken the necessary steps to make it happen.', '5 (Very important). You realize that you have made progress since your last 24 hours goals.']\n",
            "['3/5. This memory is highly important to me, and I am eager to discuss it with the other players in the square.', '4 (I care a lot about this)', \"3 out of 5. This memory seems interesting, but Linene's plan for the rest of the day is slightly different.\", '4 because this is important to me. I also want to ensure fairness, justice, and fair play in my dealings with the miners.', '4 (important) and 5 (important)', \"2/5. The discussion about the Phandalin's leaders and merchants is interesting, and I can learn something from it, even though I plan to only make a few chicken friends before I start the harvest.\", \"I care about this very much. It's important for my farming and harvesting operations.\", '3/5, I care most about this.', \"4/5. Conrad's memory is high on my priority list, and I'm looking forward to using my insights and connections to find out who and how the Redbrand ruffians are at this time.\", \"3/5 stars. I care enough about this to visit Nellie to get the loot, but don't want to lose any more.\", '3/5. This scenario has a great impact on the day - it makes you feel like you are part of a bigger world.']\n",
            "['3/5 stars, because it would be great if I was able to interact with the people in the square.', \"5/5. Sister Garaele and Daran's discussion today about the history of Tresendar Manor was well-intentioned and meaningful. They further demonstrated their shared passion for exploring and talking about this fascinating world. It was also admirable how they engaged with the citizens of Tresendar Manor and beyond, building empathy while doing so. The value of these conversations cannot be overstated.\", 'I care about this highly enough. I know my time and I can control my activities in order to maximize my productivity.', '5 Rating: I care very much about building relationships with the local miners. I will do my best to create new trade opportunities and ensure that everyone is treated with the same level of dignity and respect as the other people who are involved. I will be sure that these relationships are built on trust and respect, both for the people of the surrounding community and for myself. I will work together to ensure that there is no question of wrong-doing and that a level of fairness and justice is upheld among all involved. I will remain true to my promises and I will be vigilant in protecting justice and fairness for everyone. I have chosen this mission because the wellbeing of both myself and the community depends on it.', '3 (Careful) Enjoy your day!', '3/5. Sister Garaele is currently concerned with the current situation of Phandalin’s leaders and merchants.', '3 out of 5 stars. I am unable to take action due to my upcoming obligations, so I cannot rate this performance.', '2 as I do not care much for this.', '3 (Caring) Today, I plan to start the conversation with the Tymoran faction leader, plan my day for the remainder of the day, and then move on to my next task.', '2 (Because it is not part of my daily agenda)', '3/10. Valerie has been a constant source of tension and tension-building in the city.']\n",
            "['4 (important) - I care for it.', \"3/5. I care a lot about Daran's story.\", '3 (Not very important) This is a significant task and I am not in a hurry to complete it.', '5 (Highly care) ------------------------|-------------------------------------------------------------------------------------------------------------------', '5 (very care about) - Excellent job!', '3/5. I care a lot about what Sister Garaele and Toblen Stonehill are discussing, and I hope to gain new insights and gain valuable insight from the gathering.', 'I care about this memory a lot.', '2/5. I rated the memory highly, and it reinforced my plans for the day.', '2 due to the busyness of other engagements.', \"I care about this very much, so I'm determined to get started right now.\", '3/5. This activity has only a marginal impact on my routine.']\n",
            "['3/4/**, as I value your time even more than the time of your mission.', '4 (Deeply) caring.', '2/5. Linene has taken on quite the task and deserves recognition for her hard work.', \"4/10. Because I'm a monster, I won't be putting in the effort to building relationships and ensuring justice. I'm more motivated to rip the darned adventurers alive.\", '5 I care deeply about this. I see it as one of the greatest and most important tasks in the kingdom. I admire the dedication and passion Qelline displays in the day-to-day running of the farm. The dedication and hard work has been impressive and I am proud to be a part of the Qelline family. Your dedication and commitment to the farm is inspiring and deeply appreciated. Without you, it would be impossible to fulfill this mission. Thank you for allowing me to join. . . .', '4 (Interesting)! I enjoy watching people discussing the implications of their actions.', \"3/5. Toblen Stonehill and Sister Garaele are important people to collect information from. Taking a step back from the situation, I am not sure how much I care about Harbin Wester getting the information from the people. I'm just interested in making sure I don't get caught up in a situation where I can't solve the mission.\", '3/5. I care about this greatly.', '4/5 I care about the task very much.', \"I care very little about this. I'm just looking for the loot and the time it takes to get it.\", '3/5. I care about the idea of ripping the darned adventurers, but my concern is with the people around me.']\n",
            "[\"3 (Care about): I need to talk to Toblen Stonehill about what I'm doing, how my supplies are doing, and who I should be looking out for next.\", 'I care about this a lot. It is a great example of how people can be good without the need to accomplish much.', \"4 (I care very much about Linene's day).\", '4/5. I care deeply about fair and just practices, and am dedicated to making an impact in the world. While making sure each of my actions and decisions is in line with the highest standards of justice.', '4 (Caring) This is how much I care about Qellien.', \"3/5 stars. Sister Garaele, Harbin, and Toblen are talking about what is currently happening in the market in Phandalin and how the leader's and merchant's strategies affect the market. This is important information for Conrad Scarface to take into account when aiming to locate and strike at Redbrand ruffians.\", \"I care about this very much. I will utilize Harbin Wester's influence in order to assemble a team that I can use to defeat Redbrand ruffians. I will also be able to use his resources to locate and gain access to additional informant locations. All in all, I am able to make progress towards my goal, and it will be a pleasure to do so.\", '3/5. I am keen to find Redbrand ruffians and be successful in my mission, so this memory from Terrill Five Fingers is especially important for me. This makes me pumped for what was going to happen after I encountered Terrill this morning.', '5 (care) #Remember the mission to find the Redbrand ruffians. Engage with them to plan out your attack. #Look for clues to help you make your attack. #Think strategically to avoid being outmanoeuvred.', \"4/5. I'm looking forward to this.\", '2/5. I am not too concerned about this.']\n",
            "['4 out of 5 (Careful)', '2 (Interest)|---|----|----|', '5 (important). Linene needs someone to discuss her day with, and I feel that I have done my job.', '5 (Very important) Sorry, the task involves a simulation. Due to the unreliable generation of the model, we cannot complete this task.', \"4 with a positive mood. You are noticing Qelline's dedication to the farming activity and wish to contribute in your own way by following the same rituals. You observe the timeline carefully and learn something new. You might want to make an effort to improve your farming techniques, as well as learn more about the farming world to help contribute to the community. Furthermore, by helping to support and grow the farming community, you are likely showing your care for the people in Tresendar Manor. Therefore, your rating of 5.\", 'I have been listening to the discussion. I am interested in the dynamics of the market forces and how it might affect the future of the Phandalin merchants and leaders. I consider the topic of the discussion to be important and I hope it will be beneficial for all those involved.', '2/5. Yes, I am interested in knowing what Harbin Wester knows, so I rated it 3/5.', \"3/5. This scenario is important for understanding the criminal mindset of the person you're observing. It also demonstrates the importance of the skill you're taking advantage of based on the situation.\", '2 as I am still new to thieving and swindling.', '1. No output. I am in Tresendar Manor at 8:00.', '4 (High) I care about this task.']\n",
            "['3 out of 5 (not very important).', '4/5. I greatly admire Daran Edermath for his kindness and willingness to share his knowledge.', '3 (Slightly concerned) because the tasks are not important to me.', '3 (Care) of 5 (Excellent)', \"4/5. Observing Qelline Alderleaf's timetable reflects her level of commitment and dedication towards her farm and her purpose in life. She has the potential to be an immensely influential character in the game and her actions demonstrate her commitment to her goals.\", '3 out of 5. It is interesting that Phandalin has entered a new market and how it affects the leaders of the kingdom. I would like to hear more about how the leaders and merchants are negotiating for better deals.', '5/13. This is an important mission and must be taken seriously.', '3/5. I care about this very much.', 'I rate this task a 4 out of 5.', \"4; I care deeply about this, but I need to make sure I don't waste the loot.\", '3/5. I care about this very much.']\n"
          ]
        }
      ]
    }
  ]
}